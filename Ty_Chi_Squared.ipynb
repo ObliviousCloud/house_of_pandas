{
 "cells": [
  {
   "cell_type": "code",
   "execution_count": 2,
   "metadata": {},
   "outputs": [],
   "source": [
    "import numpy as np\n",
    "import pandas as pd\n",
    "import csv\n",
    "\n",
    "import scipy.stats as stats\n",
    "import matplotlib.pyplot as plt"
   ]
  },
  {
   "cell_type": "code",
   "execution_count": 3,
   "metadata": {},
   "outputs": [
    {
     "data": {
      "text/html": [
       "<div>\n",
       "<style scoped>\n",
       "    .dataframe tbody tr th:only-of-type {\n",
       "        vertical-align: middle;\n",
       "    }\n",
       "\n",
       "    .dataframe tbody tr th {\n",
       "        vertical-align: top;\n",
       "    }\n",
       "\n",
       "    .dataframe thead th {\n",
       "        text-align: right;\n",
       "    }\n",
       "</style>\n",
       "<table border=\"1\" class=\"dataframe\">\n",
       "  <thead>\n",
       "    <tr style=\"text-align: right;\">\n",
       "      <th></th>\n",
       "      <th>Average retail price of electricity</th>\n",
       "      <th>cents per kilowatthour</th>\n",
       "      <th>source key</th>\n",
       "      <th>2012</th>\n",
       "      <th>2013</th>\n",
       "      <th>2014</th>\n",
       "      <th>2015</th>\n",
       "      <th>2016</th>\n",
       "      <th>2017</th>\n",
       "      <th>Average6YearRate</th>\n",
       "    </tr>\n",
       "  </thead>\n",
       "  <tbody>\n",
       "    <tr>\n",
       "      <th>0</th>\n",
       "      <td>Connecticut</td>\n",
       "      <td>cents per kilowatthour</td>\n",
       "      <td>ELEC.PRICE.CT-ALL.A</td>\n",
       "      <td>15.54</td>\n",
       "      <td>15.66</td>\n",
       "      <td>17.05</td>\n",
       "      <td>17.77</td>\n",
       "      <td>17.24</td>\n",
       "      <td>17.62</td>\n",
       "      <td>16.81</td>\n",
       "    </tr>\n",
       "    <tr>\n",
       "      <th>1</th>\n",
       "      <td>Maine</td>\n",
       "      <td>cents per kilowatthour</td>\n",
       "      <td>ELEC.PRICE.ME-ALL.A</td>\n",
       "      <td>11.81</td>\n",
       "      <td>11.86</td>\n",
       "      <td>12.65</td>\n",
       "      <td>12.78</td>\n",
       "      <td>12.80</td>\n",
       "      <td>12.94</td>\n",
       "      <td>12.47</td>\n",
       "    </tr>\n",
       "    <tr>\n",
       "      <th>2</th>\n",
       "      <td>Massachusetts</td>\n",
       "      <td>cents per kilowatthour</td>\n",
       "      <td>ELEC.PRICE.MA-ALL.A</td>\n",
       "      <td>13.79</td>\n",
       "      <td>14.51</td>\n",
       "      <td>15.35</td>\n",
       "      <td>16.90</td>\n",
       "      <td>16.48</td>\n",
       "      <td>16.14</td>\n",
       "      <td>15.53</td>\n",
       "    </tr>\n",
       "    <tr>\n",
       "      <th>3</th>\n",
       "      <td>New Hampshire</td>\n",
       "      <td>cents per kilowatthour</td>\n",
       "      <td>ELEC.PRICE.NH-ALL.A</td>\n",
       "      <td>14.19</td>\n",
       "      <td>14.30</td>\n",
       "      <td>15.22</td>\n",
       "      <td>16.02</td>\n",
       "      <td>15.66</td>\n",
       "      <td>16.16</td>\n",
       "      <td>15.26</td>\n",
       "    </tr>\n",
       "    <tr>\n",
       "      <th>4</th>\n",
       "      <td>Rhode Island</td>\n",
       "      <td>cents per kilowatthour</td>\n",
       "      <td>ELEC.PRICE.RI-ALL.A</td>\n",
       "      <td>12.74</td>\n",
       "      <td>13.72</td>\n",
       "      <td>15.41</td>\n",
       "      <td>17.01</td>\n",
       "      <td>16.28</td>\n",
       "      <td>16.44</td>\n",
       "      <td>15.27</td>\n",
       "    </tr>\n",
       "  </tbody>\n",
       "</table>\n",
       "</div>"
      ],
      "text/plain": [
       "  Average retail price of electricity  cents per kilowatthour  \\\n",
       "0                         Connecticut  cents per kilowatthour   \n",
       "1                               Maine  cents per kilowatthour   \n",
       "2                       Massachusetts  cents per kilowatthour   \n",
       "3                       New Hampshire  cents per kilowatthour   \n",
       "4                        Rhode Island  cents per kilowatthour   \n",
       "\n",
       "            source key   2012   2013   2014   2015   2016   2017  \\\n",
       "0  ELEC.PRICE.CT-ALL.A  15.54  15.66  17.05  17.77  17.24  17.62   \n",
       "1  ELEC.PRICE.ME-ALL.A  11.81  11.86  12.65  12.78  12.80  12.94   \n",
       "2  ELEC.PRICE.MA-ALL.A  13.79  14.51  15.35  16.90  16.48  16.14   \n",
       "3  ELEC.PRICE.NH-ALL.A  14.19  14.30  15.22  16.02  15.66  16.16   \n",
       "4  ELEC.PRICE.RI-ALL.A  12.74  13.72  15.41  17.01  16.28  16.44   \n",
       "\n",
       "   Average6YearRate  \n",
       "0             16.81  \n",
       "1             12.47  \n",
       "2             15.53  \n",
       "3             15.26  \n",
       "4             15.27  "
      ]
     },
     "execution_count": 3,
     "metadata": {},
     "output_type": "execute_result"
    }
   ],
   "source": [
    "statesdata = \"TylerData/Average_price_electricity.csv\"\n",
    "\n",
    "states_df = pd.read_csv(statesdata)\n",
    "states_df.head()"
   ]
  },
  {
   "cell_type": "code",
   "execution_count": 4,
   "metadata": {},
   "outputs": [
    {
     "name": "stdout",
     "output_type": "stream",
     "text": [
      "36\n",
      "15\n",
      "['Pennsylvania', 'Illinois', 'Indiana', 'Ohio', 'Wisconsin', 'Iowa', 'Kansas', 'Minnesota', 'Missouri', 'Nebraska', 'North Dakota', 'South Dakota', 'Florida', 'Georgia', 'North Carolina', 'South Carolina', 'Virginia', 'West Virginia', 'Alabama', 'Kentucky', 'Mississippi', 'Tennessee', 'Arkansas', 'Louisiana', 'Oklahoma', 'Texas', 'Arizona', 'Colorado', 'Idaho', 'Montana', 'Nevada', 'New Mexico', 'Utah', 'Wyoming', 'Oregon', 'Washington']\n",
      "['Connecticut', 'Maine', 'Massachusetts', 'New Hampshire', 'Rhode Island', 'Vermont', 'New Jersey', 'New York', 'Michigan', 'Delaware', 'District Of Columbia', 'Maryland', 'California', 'Alaska', ' Hawaii']\n"
     ]
    }
   ],
   "source": [
    "cheaplist = []\n",
    "expensivelist = []\n",
    "\n",
    "for index, row in states_df.iterrows():\n",
    "    \n",
    "    if row[\"Average6YearRate\"] > 11.00:\n",
    "        expensivelist.append(row[\"Average retail price of electricity\"])\n",
    "    else:\n",
    "        cheaplist.append(row[\"Average retail price of electricity\"])\n",
    "        \n",
    "print(len(cheaplist))\n",
    "print(len(expensivelist))\n",
    "print(cheaplist)\n",
    "print(expensivelist)"
   ]
  },
  {
   "cell_type": "code",
   "execution_count": 5,
   "metadata": {},
   "outputs": [
    {
     "name": "stdout",
     "output_type": "stream",
     "text": [
      "['Massachusetts', 'Rhode Island', 'Mississippi', 'Virginia', 'Alaska', 'Arizona', 'Texas', 'Delaware', 'New Jersey', 'Nevada', 'Florida', 'Oklahoma', 'California', 'Louisiana']\n",
      "------------------------------------------------------------------------------------------------------------------\n",
      "['Connecticut', 'Maine', 'Massachusetts', 'New Hampshire', 'Rhode Island', 'Vermont', 'New Jersey', 'New York', 'Michigan', 'Delaware', 'District Of Columbia', 'Maryland', 'California', 'Alaska', ' Hawaii']\n",
      "------------------------------------------------------------------------------------------------------------------\n",
      "['Illinois', 'Ohio', 'Alabama', 'Washington', 'Arkansas', 'Colorado', 'Connecticut', 'Georgia', 'Hawaii', 'Idaho', 'Indiana', 'Iowa', 'Kansas', 'Kentucky', 'Maine', 'Maryland', 'Michigan', 'Minnesota', 'Missouri', 'Montana', 'Nebraska', 'New Hampshire', 'New Mexico', 'New York', 'North Carolina', 'North Dakota', 'Oregon', 'Pennsylvania', 'South Carolina', 'South Dakota', 'Tennessee', 'Utah', 'Vermont', 'Washington', 'West Virginia', 'Wisconsin', 'Wyoming']\n",
      "------------------------------------------------------------------------------------------------------------------\n",
      "['Pennsylvania', 'Illinois', 'Indiana', 'Ohio', 'Wisconsin', 'Iowa', 'Kansas', 'Minnesota', 'Missouri', 'Nebraska', 'North Dakota', 'South Dakota', 'Florida', 'Georgia', 'North Carolina', 'South Carolina', 'Virginia', 'West Virginia', 'Alabama', 'Kentucky', 'Mississippi', 'Tennessee', 'Arkansas', 'Louisiana', 'Oklahoma', 'Texas', 'Arizona', 'Colorado', 'Idaho', 'Montana', 'Nevada', 'New Mexico', 'Utah', 'Wyoming', 'Oregon', 'Washington']\n"
     ]
    }
   ],
   "source": [
    "states = {\n",
    "\n",
    "         'Alabama','Alaska','Arizona','Arkansas','California','Colorado',\n",
    "         'Connecticut','Delaware','Florida','Georgia','Hawaii','Idaho', \n",
    "         'Illinois','Indiana','Iowa','Kansas','Kentucky','Louisiana',\n",
    "         'Maine','Maryland','Massachusetts','Michigan','Minnesota',\n",
    "         'Mississippi', 'Missouri','Montana','Nebraska','Nevada',\n",
    "         'New Hampshire','New Jersey','New Mexico','New York',\n",
    "         'North Carolina','North Dakota','Ohio',    \n",
    "         'Oklahoma','Oregon','Pennsylvania','Rhode Island',\n",
    "         'South Carolina','South Dakota','Tennessee','Texas','Utah',\n",
    "         'Vermont','Virginia','Washington','West Virginia',\n",
    "         'Wisconsin','Wyoming'\n",
    "    }\n",
    "lowcostusers = [\"Illinois\", \"Ohio\", \"Alabama\", \"Washington\", \"Arkansas\", \"Colorado\", \"Connecticut\", \"Georgia\", \"Hawaii\", \"Idaho\",\n",
    "          \"Indiana\",\"Iowa\",\"Kansas\",\"Kentucky\",\"Maine\",\"Maryland\",\"Michigan\",\"Minnesota\",\"Missouri\", \"Montana\", \"Nebraska\", \n",
    "          \"New Hampshire\",\"New Mexico\", \"New York\", \"North Carolina\", \"North Dakota\", \"Oregon\",\"Pennsylvania\", \"South Carolina\",\n",
    "          \"South Dakota\", \"Tennessee\",\"Utah\", \"Vermont\", \"Washington\", \"West Virginia\", \"Wisconsin\", \"Wyoming\"]\n",
    "\n",
    "highcostusers = []\n",
    "\n",
    "for state in states:\n",
    "    if state not in lowcostusers:\n",
    "        highcostusers.append(state)\n",
    "print(highcostusers)\n",
    "print(\"------------------------------------------------------------------------------------------------------------------\")\n",
    "print(expensivelist)\n",
    "print(\"------------------------------------------------------------------------------------------------------------------\")\n",
    "print(lowcostusers)\n",
    "print(\"------------------------------------------------------------------------------------------------------------------\")\n",
    "print(cheaplist)"
   ]
  },
  {
   "cell_type": "code",
   "execution_count": 6,
   "metadata": {},
   "outputs": [
    {
     "name": "stdout",
     "output_type": "stream",
     "text": [
      "6\n",
      "8\n",
      "7\n",
      "28\n"
     ]
    }
   ],
   "source": [
    "hchr = len(set(highcostusers) & set(expensivelist))\n",
    "hclr = len(set(highcostusers) & set(cheaplist))\n",
    "lchr = len(set(lowcostusers) & set(expensivelist))\n",
    "lclr = len(set(lowcostusers) & set(cheaplist))\n",
    "\n",
    "# if state in highcostusers and expensivelist:\n",
    "#     hchr.append(state)\n",
    "#     elif state in highcostusers and cheaplist\n",
    "#         hclr.append(state)\n",
    "        \n",
    "# if state in lowcostusers and expensivelist:\n",
    "#     lchr.append(state)\n",
    "# if state in lowcostusers and cheaplist:\n",
    "#     lclr.append(state)\n",
    "print(hchr)\n",
    "print(hclr)\n",
    "print(lchr)\n",
    "print(lclr)"
   ]
  },
  {
   "cell_type": "code",
   "execution_count": 7,
   "metadata": {},
   "outputs": [
    {
     "data": {
      "text/html": [
       "<div>\n",
       "<style scoped>\n",
       "    .dataframe tbody tr th:only-of-type {\n",
       "        vertical-align: middle;\n",
       "    }\n",
       "\n",
       "    .dataframe tbody tr th {\n",
       "        vertical-align: top;\n",
       "    }\n",
       "\n",
       "    .dataframe thead th {\n",
       "        text-align: right;\n",
       "    }\n",
       "</style>\n",
       "<table border=\"1\" class=\"dataframe\">\n",
       "  <thead>\n",
       "    <tr style=\"text-align: right;\">\n",
       "      <th></th>\n",
       "      <th>0</th>\n",
       "      <th>1</th>\n",
       "    </tr>\n",
       "  </thead>\n",
       "  <tbody>\n",
       "    <tr>\n",
       "      <th>High Energy Cost Users</th>\n",
       "      <td>6</td>\n",
       "      <td>8</td>\n",
       "    </tr>\n",
       "    <tr>\n",
       "      <th>Low Energy Cost Users</th>\n",
       "      <td>7</td>\n",
       "      <td>28</td>\n",
       "    </tr>\n",
       "  </tbody>\n",
       "</table>\n",
       "</div>"
      ],
      "text/plain": [
       "                        0   1\n",
       "High Energy Cost Users  6   8\n",
       "Low Energy Cost Users   7  28"
      ]
     },
     "execution_count": 7,
     "metadata": {},
     "output_type": "execute_result"
    }
   ],
   "source": [
    "data = pd.Series([hchr,lchr], index=[\"High Energy Cost Users\", \"Low Energy Cost Users\"])\n",
    "chi_df = pd.DataFrame([data]).T\n",
    "chi_df[1] = [hclr,lclr]\n",
    "\n",
    "chi_df"
   ]
  },
  {
   "cell_type": "code",
   "execution_count": 8,
   "metadata": {},
   "outputs": [
    {
     "data": {
      "text/html": [
       "<div>\n",
       "<style scoped>\n",
       "    .dataframe tbody tr th:only-of-type {\n",
       "        vertical-align: middle;\n",
       "    }\n",
       "\n",
       "    .dataframe tbody tr th {\n",
       "        vertical-align: top;\n",
       "    }\n",
       "\n",
       "    .dataframe thead th {\n",
       "        text-align: right;\n",
       "    }\n",
       "</style>\n",
       "<table border=\"1\" class=\"dataframe\">\n",
       "  <thead>\n",
       "    <tr style=\"text-align: right;\">\n",
       "      <th></th>\n",
       "      <th>ExpensiveRates(&gt;$0.11)</th>\n",
       "      <th>CheapRates(=&lt;$0.11)</th>\n",
       "    </tr>\n",
       "  </thead>\n",
       "  <tbody>\n",
       "    <tr>\n",
       "      <th>High Energy Cost Users</th>\n",
       "      <td>6</td>\n",
       "      <td>8</td>\n",
       "    </tr>\n",
       "    <tr>\n",
       "      <th>Low Energy Cost Users</th>\n",
       "      <td>7</td>\n",
       "      <td>28</td>\n",
       "    </tr>\n",
       "  </tbody>\n",
       "</table>\n",
       "</div>"
      ],
      "text/plain": [
       "                        ExpensiveRates(>$0.11)  CheapRates(=<$0.11)\n",
       "High Energy Cost Users                       6                    8\n",
       "Low Energy Cost Users                        7                   28"
      ]
     },
     "execution_count": 8,
     "metadata": {},
     "output_type": "execute_result"
    }
   ],
   "source": [
    "chi_df.columns = [\"ExpensiveRates(>$0.11)\",\"CheapRates(=<$0.11)\"]\n",
    "\n",
    "chi_df\n",
    "# data = pd.DataFrame({\"Expensive Rates (>$0.11)\": [hchr,lchr],\n",
    "#                     \"Cheap Rates (=<$0.11)\": [hclr,lclr]})\n",
    "# chi_df=chi_df.append(data)\n",
    "# chi_df.head()"
   ]
  },
  {
   "cell_type": "code",
   "execution_count": 9,
   "metadata": {},
   "outputs": [
    {
     "data": {
      "text/plain": [
       "array([[ 3.71428571,  9.28571429],\n",
       "       [10.28571429, 25.71428571]])"
      ]
     },
     "execution_count": 9,
     "metadata": {},
     "output_type": "execute_result"
    }
   ],
   "source": [
    "observed = np.array([[6,7],[8,28]])\n",
    "stats.contingency.expected_freq(observed)\n"
   ]
  },
  {
   "cell_type": "code",
   "execution_count": 10,
   "metadata": {},
   "outputs": [
    {
     "data": {
      "text/plain": [
       "(1.6359508547008548, 0.20088193349618605, 1, array([[ 3.71428571,  9.28571429],\n",
       "        [10.28571429, 25.71428571]]))"
      ]
     },
     "execution_count": 10,
     "metadata": {},
     "output_type": "execute_result"
    }
   ],
   "source": [
    "stats.chi2_contingency(observed)"
   ]
  },
  {
   "cell_type": "code",
   "execution_count": null,
   "metadata": {},
   "outputs": [],
   "source": [
    "# Pvalue is the probability the variables are independent. \n",
    "#pvalue is greater than 0.05 which means the result is not significant. \n",
    "#meaning we think that cost of higher cost electricity sources does not \n",
    "#significantly mean higher rates."
   ]
  }
 ],
 "metadata": {
  "kernelspec": {
   "display_name": "Python 3",
   "language": "python",
   "name": "python3"
  },
  "language_info": {
   "codemirror_mode": {
    "name": "ipython",
    "version": 3
   },
   "file_extension": ".py",
   "mimetype": "text/x-python",
   "name": "python",
   "nbconvert_exporter": "python",
   "pygments_lexer": "ipython3",
   "version": "3.6.5"
  }
 },
 "nbformat": 4,
 "nbformat_minor": 2
}
