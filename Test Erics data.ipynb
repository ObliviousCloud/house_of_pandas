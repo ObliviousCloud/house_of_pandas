{
 "cells": [
  {
   "cell_type": "code",
   "execution_count": 3,
   "metadata": {},
   "outputs": [],
   "source": [
    "import pandas as pd\n",
    "import scipy.stats as stats"
   ]
  },
  {
   "cell_type": "code",
   "execution_count": 7,
   "metadata": {},
   "outputs": [
    {
     "name": "stdout",
     "output_type": "stream",
     "text": [
      "  State   Rate\n",
      "0    ME  11.15\n",
      "1    ME  11.05\n",
      "2    ME  10.78\n",
      "3    ME   9.41\n",
      "4    ME   9.21\n"
     ]
    },
    {
     "data": {
      "text/plain": [
       "array(['ME', 'NY', 'IL', 'OH', 'ND', 'FL', 'MD', 'AL', 'TX', 'AZ', 'CA',\n",
       "       'WA'], dtype=object)"
      ]
     },
     "execution_count": 7,
     "metadata": {},
     "output_type": "execute_result"
    }
   ],
   "source": [
    "# Import Data\n",
    "electricity = pd.read_csv(\"retail_price_of_electricity_by_state.csv\")\n",
    "print(electricity.head())\n",
    "\n",
    "electricity[\"State\"].unique()\n",
    "#'ME', 'NY', 'IL', 'OH', 'ND', 'FL', 'MD', 'AL', 'TX', 'AZ', 'CA','WA'"
   ]
  },
  {
   "cell_type": "code",
   "execution_count": 8,
   "metadata": {},
   "outputs": [
    {
     "data": {
      "text/plain": [
       "0    11.15\n",
       "1    11.05\n",
       "2    10.78\n",
       "3     9.41\n",
       "4     9.21\n",
       "Name: Rate, dtype: float64"
      ]
     },
     "execution_count": 8,
     "metadata": {},
     "output_type": "execute_result"
    }
   ],
   "source": [
    "ME=electricity[electricity[\"State\"]==\"ME\"][\"Rate\"]\n",
    "NY=electricity[electricity[\"State\"]==\"NY\"][\"Rate\"]\n",
    "IL=electricity[electricity[\"State\"]==\"IL\"][\"Rate\"]\n",
    "OH=electricity[electricity[\"State\"]==\"OH\"][\"Rate\"]\n",
    "ND=electricity[electricity[\"State\"]==\"ND\"][\"Rate\"]\n",
    "FL=electricity[electricity[\"State\"]==\"FL\"][\"Rate\"]\n",
    "MD=electricity[electricity[\"State\"]==\"MD\"][\"Rate\"]\n",
    "AL=electricity[electricity[\"State\"]==\"AL\"][\"Rate\"]\n",
    "TX=electricity[electricity[\"State\"]==\"TX\"][\"Rate\"]\n",
    "AZ=electricity[electricity[\"State\"]==\"AZ\"][\"Rate\"]\n",
    "CA=electricity[electricity[\"State\"]==\"CA\"][\"Rate\"]\n",
    "WA=electricity[electricity[\"State\"]==\"WA\"][\"Rate\"]\n",
    "\n",
    "ME.head()"
   ]
  },
  {
   "cell_type": "code",
   "execution_count": 9,
   "metadata": {},
   "outputs": [
    {
     "data": {
      "text/plain": [
       "F_onewayResult(statistic=543.0887695539122, pvalue=0.0)"
      ]
     },
     "execution_count": 9,
     "metadata": {},
     "output_type": "execute_result"
    }
   ],
   "source": [
    "# ANOVA\n",
    "stats.f_oneway(ME,NY,IL,OH,ND,FL,MD,AL,TX,AZ,CA,WA)\n",
    "\n",
    "# Since p-value is lower than 0.05, we can conclude the different states have distinguishing rate statistically."
   ]
  },
  {
   "cell_type": "code",
   "execution_count": null,
   "metadata": {},
   "outputs": [],
   "source": []
  }
 ],
 "metadata": {
  "kernelspec": {
   "display_name": "Python 3",
   "language": "python",
   "name": "python3"
  },
  "language_info": {
   "codemirror_mode": {
    "name": "ipython",
    "version": 3
   },
   "file_extension": ".py",
   "mimetype": "text/x-python",
   "name": "python",
   "nbconvert_exporter": "python",
   "pygments_lexer": "ipython3",
   "version": "3.6.5"
  }
 },
 "nbformat": 4,
 "nbformat_minor": 2
}
